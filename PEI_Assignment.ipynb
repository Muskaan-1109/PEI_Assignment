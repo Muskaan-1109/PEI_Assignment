{
 "cells": [
  {
   "cell_type": "markdown",
   "id": "d9ae9ab7",
   "metadata": {},
   "source": [
    "# Phase 1: Data Audit & Cleaning\n",
    "\n",
    "This notebook documents the data validation, audit and transformation process for the sales analytics assignment, working with three source datasets: `Customer`, `Order`, and `Shipping`."
   ]
  },
  {
   "cell_type": "markdown",
   "id": "0447121d",
   "metadata": {},
   "source": [
    "## Load Data"
   ]
  },
  {
   "cell_type": "code",
   "execution_count": 1,
   "id": "805de6de",
   "metadata": {},
   "outputs": [],
   "source": [
    "import pandas as pd\n",
    "\n",
    "# Loading the datasets\n",
    "customer_df = pd.read_csv('/Users/mitthooo/Downloads/Customer - atkoe-u250m.csv')  \n",
    "order_df=pd.read_csv('/Users/mitthooo/Downloads/Order.csv') \n",
    "shipping_df=pd.read_json('/Users/mitthooo/Downloads/Shipping.json')\n"
   ]
  },
  {
   "cell_type": "markdown",
   "id": "841ef11f-3a1e-43a9-ad84-44fef3b07ea2",
   "metadata": {},
   "source": [
    "## Basic Data Validation & Exploration"
   ]
  },
  {
   "cell_type": "code",
   "execution_count": 7,
   "id": "3a94d7dd-a6e9-45b8-ab33-4fadc38a93a5",
   "metadata": {},
   "outputs": [
    {
     "name": "stdout",
     "output_type": "stream",
     "text": [
      "<class 'pandas.core.frame.DataFrame'>\n",
      "RangeIndex: 250 entries, 0 to 249\n",
      "Data columns (total 5 columns):\n",
      " #   Column       Non-Null Count  Dtype \n",
      "---  ------       --------------  ----- \n",
      " 0   Customer_ID  250 non-null    int64 \n",
      " 1   First        250 non-null    object\n",
      " 2   Last         250 non-null    object\n",
      " 3   Age          250 non-null    int64 \n",
      " 4   Country      250 non-null    object\n",
      "dtypes: int64(2), object(3)\n",
      "memory usage: 9.9+ KB\n",
      "<class 'pandas.core.frame.DataFrame'>\n",
      "RangeIndex: 250 entries, 0 to 249\n",
      "Data columns (total 4 columns):\n",
      " #   Column       Non-Null Count  Dtype \n",
      "---  ------       --------------  ----- \n",
      " 0   Order_ID     250 non-null    int64 \n",
      " 1   Item         250 non-null    object\n",
      " 2   Amount       250 non-null    int64 \n",
      " 3   Customer_ID  250 non-null    int64 \n",
      "dtypes: int64(3), object(1)\n",
      "memory usage: 7.9+ KB\n",
      "<class 'pandas.core.frame.DataFrame'>\n",
      "RangeIndex: 250 entries, 0 to 249\n",
      "Data columns (total 3 columns):\n",
      " #   Column       Non-Null Count  Dtype \n",
      "---  ------       --------------  ----- \n",
      " 0   Shipping_ID  250 non-null    int64 \n",
      " 1   Status       250 non-null    object\n",
      " 2   Customer_ID  250 non-null    int64 \n",
      "dtypes: int64(2), object(1)\n",
      "memory usage: 6.0+ KB\n"
     ]
    },
    {
     "data": {
      "text/plain": [
       "154"
      ]
     },
     "execution_count": 7,
     "metadata": {},
     "output_type": "execute_result"
    }
   ],
   "source": [
    "#Customer_file\n",
    "\n",
    "customer_df.info()\n",
    "customer_df.isnull().sum()\n",
    "customer_df.duplicated().sum()\n",
    "customer_df['Age'].describe()\n",
    "customer_df['Country'].value_counts()\n",
    "\n",
    "#Order_file\n",
    "order_df.info()\n",
    "order_df.isnull().sum()\n",
    "order_df.duplicated().sum()\n",
    "order_df['Amount'].describe()\n",
    "order_df['Item'].value_counts()\n",
    "order_df['Customer_ID'].nunique()\n",
    "\n",
    "#Shipping_file\n",
    "shipping_df.info()\n",
    "shipping_df.isnull().sum()\n",
    "shipping_df.duplicated().sum()\n",
    "shipping_df['Status'].value_counts()\n",
    "shipping_df['Customer_ID'].nunique()\n"
   ]
  },
  {
   "cell_type": "markdown",
   "id": "7b8a26ce",
   "metadata": {},
   "source": [
    "## Audit Function\n",
    "We'll use a helper function to inspect column-level metadata such as data type, null values, unique values, and a few sample values."
   ]
  },
  {
   "cell_type": "code",
   "execution_count": 8,
   "id": "9f31d955",
   "metadata": {},
   "outputs": [],
   "source": [
    "def audit_dataframe(df, name):\n",
    "    summary = {\n",
    "        \"Column\": [],\n",
    "        \"Data Type\": [],\n",
    "        \"Missing Values\": [],\n",
    "        \"Unique Values\": [],\n",
    "        \"Sample Values\": [],\n",
    "    }\n",
    "\n",
    "    for col in df.columns:\n",
    "        summary[\"Column\"].append(col)\n",
    "        summary[\"Data Type\"].append(str(df[col].dtype))\n",
    "        summary[\"Missing Values\"].append(df[col].isnull().sum())\n",
    "        summary[\"Unique Values\"].append(df[col].nunique())\n",
    "        summary[\"Sample Values\"].append(df[col].dropna().unique()[:5])\n",
    "\n",
    "    summary_df = pd.DataFrame(summary)\n",
    "    summary_df.insert(0, \"Dataset\", name)\n",
    "    return summary_df\n"
   ]
  },
  {
   "cell_type": "markdown",
   "id": "c242a0cb",
   "metadata": {},
   "source": [
    "## Run Audit on All Datasets"
   ]
  },
  {
   "cell_type": "code",
   "execution_count": 9,
   "id": "bbc52211",
   "metadata": {},
   "outputs": [
    {
     "data": {
      "text/html": [
       "<div>\n",
       "<style scoped>\n",
       "    .dataframe tbody tr th:only-of-type {\n",
       "        vertical-align: middle;\n",
       "    }\n",
       "\n",
       "    .dataframe tbody tr th {\n",
       "        vertical-align: top;\n",
       "    }\n",
       "\n",
       "    .dataframe thead th {\n",
       "        text-align: right;\n",
       "    }\n",
       "</style>\n",
       "<table border=\"1\" class=\"dataframe\">\n",
       "  <thead>\n",
       "    <tr style=\"text-align: right;\">\n",
       "      <th></th>\n",
       "      <th>Dataset</th>\n",
       "      <th>Column</th>\n",
       "      <th>Data Type</th>\n",
       "      <th>Missing Values</th>\n",
       "      <th>Unique Values</th>\n",
       "      <th>Sample Values</th>\n",
       "    </tr>\n",
       "  </thead>\n",
       "  <tbody>\n",
       "    <tr>\n",
       "      <th>0</th>\n",
       "      <td>Customer</td>\n",
       "      <td>Customer_ID</td>\n",
       "      <td>int64</td>\n",
       "      <td>0</td>\n",
       "      <td>250</td>\n",
       "      <td>[1, 2, 3, 4, 5]</td>\n",
       "    </tr>\n",
       "    <tr>\n",
       "      <th>1</th>\n",
       "      <td>Customer</td>\n",
       "      <td>First</td>\n",
       "      <td>object</td>\n",
       "      <td>0</td>\n",
       "      <td>171</td>\n",
       "      <td>[Joseph, Gary, John, Eric, William]</td>\n",
       "    </tr>\n",
       "    <tr>\n",
       "      <th>2</th>\n",
       "      <td>Customer</td>\n",
       "      <td>Last</td>\n",
       "      <td>object</td>\n",
       "      <td>0</td>\n",
       "      <td>189</td>\n",
       "      <td>[Rice, Moore, Walker, Carter, Jackson]</td>\n",
       "    </tr>\n",
       "    <tr>\n",
       "      <th>3</th>\n",
       "      <td>Customer</td>\n",
       "      <td>Age</td>\n",
       "      <td>int64</td>\n",
       "      <td>0</td>\n",
       "      <td>62</td>\n",
       "      <td>[43, 71, 44, 38, 58]</td>\n",
       "    </tr>\n",
       "    <tr>\n",
       "      <th>4</th>\n",
       "      <td>Customer</td>\n",
       "      <td>Country</td>\n",
       "      <td>object</td>\n",
       "      <td>0</td>\n",
       "      <td>3</td>\n",
       "      <td>[USA, UK, UAE]</td>\n",
       "    </tr>\n",
       "    <tr>\n",
       "      <th>5</th>\n",
       "      <td>Order</td>\n",
       "      <td>Order_ID</td>\n",
       "      <td>int64</td>\n",
       "      <td>0</td>\n",
       "      <td>250</td>\n",
       "      <td>[1, 2, 3, 4, 5]</td>\n",
       "    </tr>\n",
       "    <tr>\n",
       "      <th>6</th>\n",
       "      <td>Order</td>\n",
       "      <td>Item</td>\n",
       "      <td>object</td>\n",
       "      <td>0</td>\n",
       "      <td>8</td>\n",
       "      <td>[Keyboard, Mouse, Monitor, Mousepad, Harddisk]</td>\n",
       "    </tr>\n",
       "    <tr>\n",
       "      <th>7</th>\n",
       "      <td>Order</td>\n",
       "      <td>Amount</td>\n",
       "      <td>int64</td>\n",
       "      <td>0</td>\n",
       "      <td>9</td>\n",
       "      <td>[400, 300, 12000, 250, 5000]</td>\n",
       "    </tr>\n",
       "    <tr>\n",
       "      <th>8</th>\n",
       "      <td>Order</td>\n",
       "      <td>Customer_ID</td>\n",
       "      <td>int64</td>\n",
       "      <td>0</td>\n",
       "      <td>160</td>\n",
       "      <td>[139, 250, 239, 153, 164]</td>\n",
       "    </tr>\n",
       "    <tr>\n",
       "      <th>9</th>\n",
       "      <td>Shipping</td>\n",
       "      <td>Shipping_ID</td>\n",
       "      <td>int64</td>\n",
       "      <td>0</td>\n",
       "      <td>250</td>\n",
       "      <td>[1, 2, 3, 4, 5]</td>\n",
       "    </tr>\n",
       "    <tr>\n",
       "      <th>10</th>\n",
       "      <td>Shipping</td>\n",
       "      <td>Status</td>\n",
       "      <td>object</td>\n",
       "      <td>0</td>\n",
       "      <td>2</td>\n",
       "      <td>[Pending, Delivered]</td>\n",
       "    </tr>\n",
       "    <tr>\n",
       "      <th>11</th>\n",
       "      <td>Shipping</td>\n",
       "      <td>Customer_ID</td>\n",
       "      <td>int64</td>\n",
       "      <td>0</td>\n",
       "      <td>154</td>\n",
       "      <td>[173, 155, 242, 223, 72]</td>\n",
       "    </tr>\n",
       "  </tbody>\n",
       "</table>\n",
       "</div>"
      ],
      "text/plain": [
       "     Dataset       Column Data Type  Missing Values  Unique Values  \\\n",
       "0   Customer  Customer_ID     int64               0            250   \n",
       "1   Customer        First    object               0            171   \n",
       "2   Customer         Last    object               0            189   \n",
       "3   Customer          Age     int64               0             62   \n",
       "4   Customer      Country    object               0              3   \n",
       "5      Order     Order_ID     int64               0            250   \n",
       "6      Order         Item    object               0              8   \n",
       "7      Order       Amount     int64               0              9   \n",
       "8      Order  Customer_ID     int64               0            160   \n",
       "9   Shipping  Shipping_ID     int64               0            250   \n",
       "10  Shipping       Status    object               0              2   \n",
       "11  Shipping  Customer_ID     int64               0            154   \n",
       "\n",
       "                                     Sample Values  \n",
       "0                                  [1, 2, 3, 4, 5]  \n",
       "1              [Joseph, Gary, John, Eric, William]  \n",
       "2           [Rice, Moore, Walker, Carter, Jackson]  \n",
       "3                             [43, 71, 44, 38, 58]  \n",
       "4                                   [USA, UK, UAE]  \n",
       "5                                  [1, 2, 3, 4, 5]  \n",
       "6   [Keyboard, Mouse, Monitor, Mousepad, Harddisk]  \n",
       "7                     [400, 300, 12000, 250, 5000]  \n",
       "8                        [139, 250, 239, 153, 164]  \n",
       "9                                  [1, 2, 3, 4, 5]  \n",
       "10                            [Pending, Delivered]  \n",
       "11                        [173, 155, 242, 223, 72]  "
      ]
     },
     "execution_count": 9,
     "metadata": {},
     "output_type": "execute_result"
    }
   ],
   "source": [
    "customer_audit = audit_dataframe(customer_df, \"Customer\")\n",
    "order_audit = audit_dataframe(order_df, \"Order\")\n",
    "shipping_audit = audit_dataframe(shipping_df, \"Shipping\")\n",
    "\n",
    "# Combine all results\n",
    "full_audit = pd.concat([customer_audit, order_audit, shipping_audit], ignore_index=True)\n",
    "full_audit"
   ]
  },
  {
   "cell_type": "markdown",
   "id": "73e6dfb0",
   "metadata": {},
   "source": [
    "## Summary\n",
    "We verified the datasets against key quality checks:\n",
    "\n",
    "- Null values\n",
    "- Duplicate entries\n",
    "- Key column uniqueness\n",
    "- Range and domain constraints\n",
    "- Referential integrity between Customer_IDs across tables\n",
    "\n",
    "All datasets passed these checks and are clean for modeling."
   ]
  },
  {
   "cell_type": "markdown",
   "id": "aa8e2cfa-8117-43bc-9b0b-fda5b694ce69",
   "metadata": {},
   "source": [
    "##  Referential Integrity (Joins)\n",
    "Check if foreign keys match:"
   ]
  },
  {
   "cell_type": "code",
   "execution_count": 12,
   "id": "38d557d2-9b11-4600-886e-f9c5e466e43b",
   "metadata": {},
   "outputs": [
    {
     "name": "stdout",
     "output_type": "stream",
     "text": [
      "Customers in orders but missing in customers table: set()\n",
      "Customers in shipping but missing in customers table: set()\n"
     ]
    }
   ],
   "source": [
    "\n",
    "# Customers in orders but not in customers\n",
    "missing_in_customers_from_orders = set(order_df['Customer_ID']) - set(customer_df['Customer_ID'])\n",
    "print(\"Customers in orders but missing in customers table:\", missing_in_customers_from_orders)\n",
    "\n",
    "# Customers in shipping but not in customers\n",
    "missing_in_customers_from_shipping = set(shipping_df['Customer_ID']) - set(customer_df['Customer_ID'])\n",
    "print(\"Customers in shipping but missing in customers table:\", missing_in_customers_from_shipping)\n",
    "\n"
   ]
  },
  {
   "cell_type": "markdown",
   "id": "47aca267",
   "metadata": {},
   "source": [
    "### Next Step\n",
    "We are now ready to move to **Phase 2: Domain Modeling**, where we'll create an ERD and structure the data to support the reporting requirements."
   ]
  },
  {
   "cell_type": "code",
   "execution_count": null,
   "id": "443347dc-f235-4709-b119-e547129bafc9",
   "metadata": {},
   "outputs": [],
   "source": []
  }
 ],
 "metadata": {
  "kernelspec": {
   "display_name": "Python 3 (ipykernel)",
   "language": "python",
   "name": "python3"
  },
  "language_info": {
   "codemirror_mode": {
    "name": "ipython",
    "version": 3
   },
   "file_extension": ".py",
   "mimetype": "text/x-python",
   "name": "python",
   "nbconvert_exporter": "python",
   "pygments_lexer": "ipython3",
   "version": "3.12.7"
  }
 },
 "nbformat": 4,
 "nbformat_minor": 5
}
